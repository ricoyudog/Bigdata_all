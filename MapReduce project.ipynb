{
 "cells": [
  {
   "cell_type": "code",
   "execution_count": 1,
   "metadata": {},
   "outputs": [],
   "source": [
    "import sys\n",
    "import pandas as pd\n",
    "\n",
    "book = pd.read_csv('Train_data.csv',engine = 'python')\n",
    "\n"
   ]
  },
  {
   "cell_type": "code",
   "execution_count": 2,
   "metadata": {},
   "outputs": [
    {
     "data": {
      "text/plain": [
       "Index(['bookID', 'title', 'authors', 'average_rating', 'isbn', 'isbn13',\n",
       "       'language_code', '  num_pages', 'ratings_count', 'text_reviews_count',\n",
       "       'publication_date', 'publisher'],\n",
       "      dtype='object')"
      ]
     },
     "execution_count": 2,
     "metadata": {},
     "output_type": "execute_result"
    }
   ],
   "source": [
    "book.columns"
   ]
  },
  {
   "cell_type": "code",
   "execution_count": 3,
   "metadata": {},
   "outputs": [
    {
     "name": "stdout",
     "output_type": "stream",
     "text": [
      "<class 'pandas.core.frame.DataFrame'>\n",
      "RangeIndex: 10000 entries, 0 to 9999\n",
      "Data columns (total 12 columns):\n",
      " #   Column              Non-Null Count  Dtype \n",
      "---  ------              --------------  ----- \n",
      " 0   bookID              10000 non-null  int64 \n",
      " 1   title               10000 non-null  object\n",
      " 2   authors             10000 non-null  object\n",
      " 3   average_rating      10000 non-null  object\n",
      " 4   isbn                10000 non-null  object\n",
      " 5   isbn13              10000 non-null  object\n",
      " 6   language_code       10000 non-null  object\n",
      " 7     num_pages         10000 non-null  int64 \n",
      " 8   ratings_count       10000 non-null  int64 \n",
      " 9   text_reviews_count  10000 non-null  object\n",
      " 10  publication_date    10000 non-null  object\n",
      " 11  publisher           9978 non-null   object\n",
      "dtypes: int64(3), object(9)\n",
      "memory usage: 937.6+ KB\n"
     ]
    }
   ],
   "source": [
    "book.info()"
   ]
  },
  {
   "cell_type": "code",
   "execution_count": 4,
   "metadata": {},
   "outputs": [],
   "source": [
    "date = book.loc[1][10]"
   ]
  },
  {
   "cell_type": "code",
   "execution_count": 9,
   "metadata": {},
   "outputs": [
    {
     "name": "stdout",
     "output_type": "stream",
     "text": [
      "2006\n"
     ]
    }
   ],
   "source": [
    "import datetime\n",
    "\n",
    "date_time_str = book.loc[2000][10]\n",
    "date_time_obj = datetime.datetime.strptime(date_time_str, '%m/%d/%Y')\n",
    "\n",
    "\n",
    "print(int(date_time_obj.year))"
   ]
  },
  {
   "cell_type": "code",
   "execution_count": 23,
   "metadata": {},
   "outputs": [
    {
     "name": "stdout",
     "output_type": "stream",
     "text": [
      "2002\n"
     ]
    }
   ],
   "source": [
    "a  = int(date_time_obj.year)\n",
    "print(a)"
   ]
  },
  {
   "cell_type": "code",
   "execution_count": 55,
   "metadata": {},
   "outputs": [],
   "source": [
    "import datetime\n",
    "import pandas as pd\n",
    "import numpy as np\n",
    "\n",
    "\n",
    "\n",
    "\n",
    "\n",
    "def Map():\n",
    "    x = 0\n",
    "    out = []\n",
    "    book = pd.read_csv(sys.stdin,engine = 'python')\n",
    "\n",
    "    for x in range(len(book)):\n",
    "        try:\n",
    "\n",
    "            gay = []\n",
    "            key = book.loc[x][0]\n",
    "            title = book.loc[x][1]\n",
    "            authors = book.loc[x][2].split(\"/\")[0]\n",
    "            avg_rating = book.loc[x][3]\n",
    "            isbn = book.loc[x][4]\n",
    "            isbn13 = book.loc[x][5]\n",
    "            lancode = book.loc[x][6]\n",
    "            pages = book.loc[x][7]\n",
    "            ratecount = book.loc[x][8]\n",
    "            textcount = book.loc[x][9]\n",
    "            \n",
    "                publisher = book.loc[x][11]\n",
    "            \n",
    "            \n",
    "            datestr = book.loc[x][10]\n",
    "            dateobj = datetime.datetime.strptime(datestr, '%d/%m/%Y')\n",
    "\n",
    "            pre = [key,title,authors,float(avg_rating),isbn,isbn13,lancode,int(pages),ratecount,int(textcount),date,publisher]\n",
    "            #returned\n",
    "\n",
    "            gay.extend(pre)\n",
    "            out.append(gay)\n",
    "            print(x)\n",
    "\n",
    "        except:\n",
    "            x = x+1\n",
    "    \n",
    "    new_book = pd.DataFrame(data = out, columns = ['bookID', 'title', 'authors', 'average_rating', 'isbn', 'isbn13',\n",
    "       'language_code', '  num_pages', 'ratings_count', 'text_reviews_count',\n",
    "       'publication_date', 'publisher'])\n",
    "    \n",
    "    new_book.to_csv(index = False)\n",
    "    \n",
    "    \n",
    "        \n",
    "\n",
    "if __name__ == \"__main__\":\n",
    "    Map()\n",
    "    "
   ]
  },
  {
   "cell_type": "code",
   "execution_count": 59,
   "metadata": {},
   "outputs": [
    {
     "data": {
      "text/plain": [
       "'Christie Ridgway'"
      ]
     },
     "execution_count": 59,
     "metadata": {},
     "output_type": "execute_result"
    }
   ],
   "source": [
    "authors = book.loc[1][2].split(\"/\")[0]\n",
    "authors"
   ]
  },
  {
   "cell_type": "code",
   "execution_count": 57,
   "metadata": {
    "scrolled": true
   },
   "outputs": [
    {
     "name": "stdout",
     "output_type": "stream",
     "text": [
      "<class 'pandas.core.frame.DataFrame'>\n",
      "Index: 0 entries\n",
      "Data columns (total 12 columns):\n",
      " #   Column              Non-Null Count  Dtype \n",
      "---  ------              --------------  ----- \n",
      " 0   bookID              0 non-null      object\n",
      " 1   title               0 non-null      object\n",
      " 2   authors             0 non-null      object\n",
      " 3   average_rating      0 non-null      object\n",
      " 4   isbn                0 non-null      object\n",
      " 5   isbn13              0 non-null      object\n",
      " 6   language_code       0 non-null      object\n",
      " 7     num_pages         0 non-null      object\n",
      " 8   ratings_count       0 non-null      object\n",
      " 9   text_reviews_count  0 non-null      object\n",
      " 10  publication_date    0 non-null      object\n",
      " 11  publisher           0 non-null      object\n",
      "dtypes: object(12)\n",
      "memory usage: 0.0+ bytes\n"
     ]
    }
   ],
   "source": []
  },
  {
   "cell_type": "code",
   "execution_count": 10,
   "metadata": {},
   "outputs": [],
   "source": [
    "bookn = pd.read_csv('MapCSV.csv',engine = 'python')"
   ]
  },
  {
   "cell_type": "code",
   "execution_count": 11,
   "metadata": {},
   "outputs": [
    {
     "name": "stdout",
     "output_type": "stream",
     "text": [
      "<class 'pandas.core.frame.DataFrame'>\n",
      "RangeIndex: 9976 entries, 0 to 9975\n",
      "Data columns (total 12 columns):\n",
      " #   Column              Non-Null Count  Dtype  \n",
      "---  ------              --------------  -----  \n",
      " 0   bookID              9976 non-null   int64  \n",
      " 1   title               9976 non-null   object \n",
      " 2   authors             9976 non-null   object \n",
      " 3   average_rating      9976 non-null   float64\n",
      " 4   isbn                9976 non-null   object \n",
      " 5   isbn13              9976 non-null   float64\n",
      " 6   language_code       9976 non-null   object \n",
      " 7     num_pages         9976 non-null   int64  \n",
      " 8   ratings_count       9976 non-null   int64  \n",
      " 9   text_reviews_count  9976 non-null   int64  \n",
      " 10  publication_date    9976 non-null   int64  \n",
      " 11  publisher           9976 non-null   object \n",
      "dtypes: float64(2), int64(5), object(5)\n",
      "memory usage: 935.4+ KB\n"
     ]
    }
   ],
   "source": [
    "bookn.info()"
   ]
  },
  {
   "cell_type": "code",
   "execution_count": 12,
   "metadata": {},
   "outputs": [
    {
     "data": {
      "text/html": [
       "<div>\n",
       "<style scoped>\n",
       "    .dataframe tbody tr th:only-of-type {\n",
       "        vertical-align: middle;\n",
       "    }\n",
       "\n",
       "    .dataframe tbody tr th {\n",
       "        vertical-align: top;\n",
       "    }\n",
       "\n",
       "    .dataframe thead th {\n",
       "        text-align: right;\n",
       "    }\n",
       "</style>\n",
       "<table border=\"1\" class=\"dataframe\">\n",
       "  <thead>\n",
       "    <tr style=\"text-align: right;\">\n",
       "      <th></th>\n",
       "      <th>bookID</th>\n",
       "      <th>title</th>\n",
       "      <th>authors</th>\n",
       "      <th>average_rating</th>\n",
       "      <th>isbn</th>\n",
       "      <th>isbn13</th>\n",
       "      <th>language_code</th>\n",
       "      <th>num_pages</th>\n",
       "      <th>ratings_count</th>\n",
       "      <th>text_reviews_count</th>\n",
       "      <th>publication_date</th>\n",
       "      <th>publisher</th>\n",
       "    </tr>\n",
       "  </thead>\n",
       "  <tbody>\n",
       "    <tr>\n",
       "      <th>0</th>\n",
       "      <td>8253</td>\n",
       "      <td>Little Town on the Prairie  (Little House  #7)</td>\n",
       "      <td>Laura Ingalls Wilder</td>\n",
       "      <td>4.19</td>\n",
       "      <td>60885432</td>\n",
       "      <td>9.780060e+12</td>\n",
       "      <td>eng</td>\n",
       "      <td>374</td>\n",
       "      <td>71853</td>\n",
       "      <td>646</td>\n",
       "      <td>2007</td>\n",
       "      <td>HarperTrophy</td>\n",
       "    </tr>\n",
       "    <tr>\n",
       "      <th>1</th>\n",
       "      <td>11101</td>\n",
       "      <td>First Comes Love (Hot Water  California #1)</td>\n",
       "      <td>Christie Ridgway</td>\n",
       "      <td>3.81</td>\n",
       "      <td>380818957</td>\n",
       "      <td>9.780380e+12</td>\n",
       "      <td>en-US</td>\n",
       "      <td>384</td>\n",
       "      <td>1051</td>\n",
       "      <td>47</td>\n",
       "      <td>2002</td>\n",
       "      <td>Avon Books</td>\n",
       "    </tr>\n",
       "    <tr>\n",
       "      <th>2</th>\n",
       "      <td>28193</td>\n",
       "      <td>When Santa Fell to Earth</td>\n",
       "      <td>Cornelia Funke</td>\n",
       "      <td>3.76</td>\n",
       "      <td>043978204X</td>\n",
       "      <td>9.780440e+12</td>\n",
       "      <td>eng</td>\n",
       "      <td>167</td>\n",
       "      <td>1840</td>\n",
       "      <td>245</td>\n",
       "      <td>2006</td>\n",
       "      <td>Chicken House / Scholastic</td>\n",
       "    </tr>\n",
       "    <tr>\n",
       "      <th>3</th>\n",
       "      <td>25047</td>\n",
       "      <td>The Case of the Stinky Science Project (Jigsaw...</td>\n",
       "      <td>James Preller</td>\n",
       "      <td>3.83</td>\n",
       "      <td>439114284</td>\n",
       "      <td>9.780440e+12</td>\n",
       "      <td>en-US</td>\n",
       "      <td>80</td>\n",
       "      <td>162</td>\n",
       "      <td>11</td>\n",
       "      <td>2001</td>\n",
       "      <td>Scholastic Paperbacks</td>\n",
       "    </tr>\n",
       "    <tr>\n",
       "      <th>4</th>\n",
       "      <td>17800</td>\n",
       "      <td>Dance Dance Dance</td>\n",
       "      <td>Haruki Murakami</td>\n",
       "      <td>4.04</td>\n",
       "      <td>99448769</td>\n",
       "      <td>9.780100e+12</td>\n",
       "      <td>eng</td>\n",
       "      <td>393</td>\n",
       "      <td>50169</td>\n",
       "      <td>2117</td>\n",
       "      <td>2002</td>\n",
       "      <td>Vintage</td>\n",
       "    </tr>\n",
       "  </tbody>\n",
       "</table>\n",
       "</div>"
      ],
      "text/plain": [
       "   bookID                                              title  \\\n",
       "0    8253     Little Town on the Prairie  (Little House  #7)   \n",
       "1   11101        First Comes Love (Hot Water  California #1)   \n",
       "2   28193                           When Santa Fell to Earth   \n",
       "3   25047  The Case of the Stinky Science Project (Jigsaw...   \n",
       "4   17800                                  Dance Dance Dance   \n",
       "\n",
       "                authors  average_rating        isbn        isbn13  \\\n",
       "0  Laura Ingalls Wilder            4.19    60885432  9.780060e+12   \n",
       "1      Christie Ridgway            3.81   380818957  9.780380e+12   \n",
       "2        Cornelia Funke            3.76  043978204X  9.780440e+12   \n",
       "3         James Preller            3.83   439114284  9.780440e+12   \n",
       "4       Haruki Murakami            4.04    99448769  9.780100e+12   \n",
       "\n",
       "  language_code    num_pages  ratings_count  text_reviews_count  \\\n",
       "0           eng          374          71853                 646   \n",
       "1         en-US          384           1051                  47   \n",
       "2           eng          167           1840                 245   \n",
       "3         en-US           80            162                  11   \n",
       "4           eng          393          50169                2117   \n",
       "\n",
       "   publication_date                   publisher  \n",
       "0              2007                HarperTrophy  \n",
       "1              2002                  Avon Books  \n",
       "2              2006  Chicken House / Scholastic  \n",
       "3              2001       Scholastic Paperbacks  \n",
       "4              2002                     Vintage  "
      ]
     },
     "execution_count": 12,
     "metadata": {},
     "output_type": "execute_result"
    }
   ],
   "source": [
    "bookn.head()"
   ]
  },
  {
   "cell_type": "code",
   "execution_count": 52,
   "metadata": {},
   "outputs": [
    {
     "name": "stderr",
     "output_type": "stream",
     "text": [
      "D:\\Python and Anacode\\envs\\pytorch_gpu\\lib\\site-packages\\seaborn\\_decorators.py:43: FutureWarning: Pass the following variables as keyword args: x, y. From version 0.12, the only valid positional argument will be `data`, and passing other arguments without an explicit keyword will result in an error or misinterpretation.\n",
      "  FutureWarning\n"
     ]
    },
    {
     "data": {
      "text/plain": [
       "Text(0.5, 0, 'Number of Publications')"
      ]
     },
     "execution_count": 52,
     "metadata": {},
     "output_type": "execute_result"
    },
    {
     "data": {
      "image/png": "[encoded data removed]",
      "text/plain": [
       "<Figure size 432x288 with 1 Axes>"
      ]
     },
     "metadata": {
      "needs_background": "light"
     },
     "output_type": "display_data"
    }
   ],
   "source": [
    "import seaborn as sns\n",
    "import matplotlib.pyplot as plt\n",
    "sns.barplot(bookn['publication_date'].value_counts().index[:10], bookn['publication_date'].value_counts()[:10])\n",
    "plt.title('Top Published Books')\n",
    "plt.xlabel('Number of Publications')"
   ]
  },
  {
   "cell_type": "code",
   "execution_count": 50,
   "metadata": {},
   "outputs": [
    {
     "data": {
      "text/plain": [
       "{2006: 828,\n",
       " 2005: 690,\n",
       " 2004: 571,\n",
       " 2003: 468,\n",
       " 2002: 442,\n",
       " 2001: 371,\n",
       " 2000: 295,\n",
       " 2007: 279,\n",
       " 1999: 254,\n",
       " 1998: 211,\n",
       " 1997: 147,\n",
       " 1996: 137,\n",
       " 1995: 135,\n",
       " 1994: 115,\n",
       " 1993: 97,\n",
       " 1991: 93,\n",
       " 1992: 92,\n",
       " 1990: 64,\n",
       " 1989: 59,\n",
       " 1988: 49,\n",
       " 1984: 48,\n",
       " 1987: 48,\n",
       " 1986: 44,\n",
       " 1985: 41,\n",
       " 2008: 25,\n",
       " 2009: 23,\n",
       " 1982: 23,\n",
       " 1977: 22,\n",
       " 1983: 21,\n",
       " 2010: 17,\n",
       " 1980: 15,\n",
       " 1976: 14,\n",
       " 1981: 14,\n",
       " 1979: 13,\n",
       " 1978: 12,\n",
       " 1973: 11,\n",
       " 2012: 8,\n",
       " 1964: 7,\n",
       " 2011: 7,\n",
       " 2013: 7,\n",
       " 1972: 6,\n",
       " 1975: 6,\n",
       " 1971: 6,\n",
       " 1970: 5,\n",
       " 2019: 4,\n",
       " 1963: 4,\n",
       " 1965: 4,\n",
       " 1959: 4,\n",
       " 1974: 4,\n",
       " 1957: 3,\n",
       " 1968: 3,\n",
       " 1961: 3,\n",
       " 2017: 3,\n",
       " 1954: 3,\n",
       " 1955: 3,\n",
       " 1966: 3,\n",
       " 1969: 2,\n",
       " 1956: 2,\n",
       " 1967: 2,\n",
       " 2015: 2,\n",
       " 2014: 2,\n",
       " 1962: 2,\n",
       " 1958: 2,\n",
       " 2018: 2,\n",
       " 2016: 2,\n",
       " 1921: 2,\n",
       " 1949: 2,\n",
       " 1950: 1,\n",
       " 1928: 1,\n",
       " 1940: 1,\n",
       " 1948: 1,\n",
       " 1952: 1,\n",
       " 1914: 1,\n",
       " 1960: 1,\n",
       " 1947: 1,\n",
       " 1953: 1,\n",
       " 1913: 1,\n",
       " 1943: 1,\n",
       " 1935: 1,\n",
       " 1931: 1,\n",
       " 1919: 1,\n",
       " 1925: 1,\n",
       " 1900: 1}"
      ]
     },
     "execution_count": 50,
     "metadata": {},
     "output_type": "execute_result"
    }
   ],
   "source": [
    "count = bookn['publication_date'].value_counts().to_dict()\n",
    "count"
   ]
  },
  {
   "cell_type": "code",
   "execution_count": 54,
   "metadata": {},
   "outputs": [
    {
     "data": {
      "text/plain": [
       "1900"
      ]
     },
     "execution_count": 54,
     "metadata": {},
     "output_type": "execute_result"
    }
   ],
   "source": [
    "bookn['publication_date'].min()"
   ]
  },
  {
   "cell_type": "code",
   "execution_count": 55,
   "metadata": {},
   "outputs": [
    {
     "data": {
      "text/plain": [
       "count    5919.000000\n",
       "mean      335.180943\n",
       "std       239.802843\n",
       "min         0.000000\n",
       "25%       192.000000\n",
       "50%       295.000000\n",
       "75%       416.000000\n",
       "max      4736.000000\n",
       "Name:   num_pages, dtype: float64"
      ]
     },
     "execution_count": 55,
     "metadata": {},
     "output_type": "execute_result"
    }
   ],
   "source": [
    "bookn['  num_pages'].describe()"
   ]
  },
  {
   "cell_type": "code",
   "execution_count": 69,
   "metadata": {},
   "outputs": [
    {
     "data": {
      "text/plain": [
       "4"
      ]
     },
     "execution_count": 69,
     "metadata": {},
     "output_type": "execute_result"
    }
   ],
   "source": [
    "len(bookn.index[book['  num_pages'] >= 3000])"
   ]
  },
  {
   "cell_type": "code",
   "execution_count": null,
   "metadata": {},
   "outputs": [],
   "source": []
  }
 ],
 "metadata": {
  "kernelspec": {
   "display_name": "Python 3",
   "language": "python",
   "name": "python3"
  },
  "language_info": {
   "codemirror_mode": {
    "name": "ipython",
    "version": 3
   },
   "file_extension": ".py",
   "mimetype": "text/x-python",
   "name": "python",
   "nbconvert_exporter": "python",
   "pygments_lexer": "ipython3",
   "version": "3.7.9"
  }
 },
 "nbformat": 4,
 "nbformat_minor": 4
}
