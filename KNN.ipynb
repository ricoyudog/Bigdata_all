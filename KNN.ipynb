{
 "cells": [
  {
   "cell_type": "code",
   "execution_count": 7,
   "metadata": {},
   "outputs": [],
   "source": [
    "import numpy as np\n",
    "import pandas as pd\n",
    "import seaborn as sns\n",
    "import matplotlib.pyplot as plt\n",
    "from sklearn.model_selection import train_test_split\n",
    "from sklearn.neighbors import KNeighborsClassifier"
   ]
  },
  {
   "cell_type": "code",
   "execution_count": 8,
   "metadata": {},
   "outputs": [
    {
     "name": "stdout",
     "output_type": "stream",
     "text": [
      "[['78' '89' '85' '81' 'A']\n",
      " ['69' '81' '83' '83' 'B']\n",
      " ['72' '92' '94' '87' 'A']\n",
      " ['90' '77' '88' '79' 'A']\n",
      " ['58' '69' '85' '77' 'C']\n",
      " ['62' '74' '82' '90' 'C']\n",
      " ['70' '68' '55' '86' 'C']\n",
      " ['80' '73' '93' '67' 'B']\n",
      " ['76' '90' '78' '67' 'B']]\n"
     ]
    }
   ],
   "source": [
    "data = np.array([[78,89,85,81,\"A\"],[69,81,83,83,\"B\"],[72,92,94,87,\"A\"],[90,77,88,79,\"A\"],[58,69,85,77,\"C\"],[62,74,82,90,\"C\"],[70,68,55,86,\"C\"],[80,73,93,67,\"B\"],[76,90,78,67,\"B\"]])\n",
    "print(data)"
   ]
  },
  {
   "cell_type": "code",
   "execution_count": 10,
   "metadata": {},
   "outputs": [
    {
     "data": {
      "text/html": [
       "<div>\n",
       "<style scoped>\n",
       "    .dataframe tbody tr th:only-of-type {\n",
       "        vertical-align: middle;\n",
       "    }\n",
       "\n",
       "    .dataframe tbody tr th {\n",
       "        vertical-align: top;\n",
       "    }\n",
       "\n",
       "    .dataframe thead th {\n",
       "        text-align: right;\n",
       "    }\n",
       "</style>\n",
       "<table border=\"1\" class=\"dataframe\">\n",
       "  <thead>\n",
       "    <tr style=\"text-align: right;\">\n",
       "      <th></th>\n",
       "      <th>Score1</th>\n",
       "      <th>Score2</th>\n",
       "      <th>Score3</th>\n",
       "      <th>Score4</th>\n",
       "      <th>Class</th>\n",
       "    </tr>\n",
       "  </thead>\n",
       "  <tbody>\n",
       "    <tr>\n",
       "      <th>0</th>\n",
       "      <td>78</td>\n",
       "      <td>89</td>\n",
       "      <td>85</td>\n",
       "      <td>81</td>\n",
       "      <td>A</td>\n",
       "    </tr>\n",
       "    <tr>\n",
       "      <th>1</th>\n",
       "      <td>69</td>\n",
       "      <td>81</td>\n",
       "      <td>83</td>\n",
       "      <td>83</td>\n",
       "      <td>B</td>\n",
       "    </tr>\n",
       "    <tr>\n",
       "      <th>2</th>\n",
       "      <td>72</td>\n",
       "      <td>92</td>\n",
       "      <td>94</td>\n",
       "      <td>87</td>\n",
       "      <td>A</td>\n",
       "    </tr>\n",
       "    <tr>\n",
       "      <th>3</th>\n",
       "      <td>90</td>\n",
       "      <td>77</td>\n",
       "      <td>88</td>\n",
       "      <td>79</td>\n",
       "      <td>A</td>\n",
       "    </tr>\n",
       "    <tr>\n",
       "      <th>4</th>\n",
       "      <td>58</td>\n",
       "      <td>69</td>\n",
       "      <td>85</td>\n",
       "      <td>77</td>\n",
       "      <td>C</td>\n",
       "    </tr>\n",
       "    <tr>\n",
       "      <th>5</th>\n",
       "      <td>62</td>\n",
       "      <td>74</td>\n",
       "      <td>82</td>\n",
       "      <td>90</td>\n",
       "      <td>C</td>\n",
       "    </tr>\n",
       "    <tr>\n",
       "      <th>6</th>\n",
       "      <td>70</td>\n",
       "      <td>68</td>\n",
       "      <td>55</td>\n",
       "      <td>86</td>\n",
       "      <td>C</td>\n",
       "    </tr>\n",
       "    <tr>\n",
       "      <th>7</th>\n",
       "      <td>80</td>\n",
       "      <td>73</td>\n",
       "      <td>93</td>\n",
       "      <td>67</td>\n",
       "      <td>B</td>\n",
       "    </tr>\n",
       "    <tr>\n",
       "      <th>8</th>\n",
       "      <td>76</td>\n",
       "      <td>90</td>\n",
       "      <td>78</td>\n",
       "      <td>67</td>\n",
       "      <td>B</td>\n",
       "    </tr>\n",
       "  </tbody>\n",
       "</table>\n",
       "</div>"
      ],
      "text/plain": [
       "  Score1 Score2 Score3 Score4 Class\n",
       "0     78     89     85     81     A\n",
       "1     69     81     83     83     B\n",
       "2     72     92     94     87     A\n",
       "3     90     77     88     79     A\n",
       "4     58     69     85     77     C\n",
       "5     62     74     82     90     C\n",
       "6     70     68     55     86     C\n",
       "7     80     73     93     67     B\n",
       "8     76     90     78     67     B"
      ]
     },
     "execution_count": 10,
     "metadata": {},
     "output_type": "execute_result"
    }
   ],
   "source": [
    "df = pd.DataFrame(data,columns =[\"Score1\",\"Score2\",\"Score3\",\"Score4\",\"Class\"])\n",
    "\n",
    "df"
   ]
  },
  {
   "cell_type": "code",
   "execution_count": 26,
   "metadata": {},
   "outputs": [],
   "source": [
    "X_train, X_test, y_train, y_test = train_test_split(df[['Score1', 'Score2', \n",
    "                                                        'Score3', 'Score4']],\n",
    "                                                    df['Class'], random_state=1, test_size = 0.3)"
   ]
  },
  {
   "cell_type": "code",
   "execution_count": 27,
   "metadata": {},
   "outputs": [
    {
     "name": "stdout",
     "output_type": "stream",
     "text": [
      "X_train shape: (6, 4)\n",
      "y_train shape: (6,)\n",
      "X_test shape: (3, 4)\n",
      "y_test shape: (3,)\n"
     ]
    }
   ],
   "source": [
    "print(\"X_train shape: {}\\ny_train shape: {}\".format(X_train.shape, y_train.shape))\n",
    "print(\"X_test shape: {}\\ny_test shape: {}\".format(X_test.shape, y_test.shape))"
   ]
  },
  {
   "cell_type": "code",
   "execution_count": 33,
   "metadata": {},
   "outputs": [
    {
     "name": "stdout",
     "output_type": "stream",
     "text": [
      "Test set score: 0.67\n",
      "Test set score: 0.33\n",
      "Test set score: 1.00\n",
      "Test set score: 0.67\n",
      "Test set score: 0.33\n",
      "Test set score: 0.33\n"
     ]
    },
    {
     "data": {
      "image/png": "[encoded data removed]",
      "text/plain": [
       "<Figure size 432x288 with 1 Axes>"
      ]
     },
     "metadata": {
      "needs_background": "light"
     },
     "output_type": "display_data"
    }
   ],
   "source": [
    "#set the value of the k\n",
    "socre = []\n",
    "for k in range (1,7):\n",
    "    knn = KNeighborsClassifier(n_neighbors=k) \n",
    "    knn.fit(X_train, y_train)\n",
    "    y_pred = knn.predict(X_test)\n",
    "    gay = pd.concat([X_test, y_test, pd.Series(y_pred, name='Predicted', index=X_test.index)], \n",
    "              ignore_index=False, axis=1)\n",
    "\n",
    "    socre.append(knn.score(X_test, y_test))\n",
    "    print(\"Test set score: {:.2f}\".format(knn.score(X_test, y_test)))\n",
    "    \n",
    "\n",
    "plt.plot(range(1,7), socre, 'go-',)\n",
    "plt.xlabel('Value of K for KNN')\n",
    "plt.ylabel('Error')\n",
    "plt.show()\n",
    "    \n"
   ]
  },
  {
   "cell_type": "code",
   "execution_count": 16,
   "metadata": {},
   "outputs": [
    {
     "name": "stdout",
     "output_type": "stream",
     "text": [
      "  Score1 Score2 Score3 Score4 Class Predicted\n",
      "8     76     90     78     67     B         A\n",
      "2     72     92     94     87     A         A\n"
     ]
    }
   ],
   "source": [
    "print(gay)"
   ]
  },
  {
   "cell_type": "code",
   "execution_count": null,
   "metadata": {},
   "outputs": [],
   "source": []
  }
 ],
 "metadata": {
  "kernelspec": {
   "display_name": "Python 3",
   "language": "python",
   "name": "python3"
  },
  "language_info": {
   "codemirror_mode": {
    "name": "ipython",
    "version": 3
   },
   "file_extension": ".py",
   "mimetype": "text/x-python",
   "name": "python",
   "nbconvert_exporter": "python",
   "pygments_lexer": "ipython3",
   "version": "3.8.5"
  }
 },
 "nbformat": 4,
 "nbformat_minor": 4
}
